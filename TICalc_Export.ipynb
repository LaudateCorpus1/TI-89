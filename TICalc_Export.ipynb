{
 "cells": [
  {
   "cell_type": "markdown",
   "metadata": {},
   "source": [
    "Export programs and functions with TI-Graph Link 89."
   ]
  },
  {
   "cell_type": "code",
   "execution_count": null,
   "metadata": {},
   "outputs": [],
   "source": [
    "# Needs done once.\n",
    "!pip install PyUserInput"
   ]
  },
  {
   "cell_type": "code",
   "execution_count": 4,
   "metadata": {},
   "outputs": [],
   "source": [
    "from time import sleep"
   ]
  },
  {
   "cell_type": "code",
   "execution_count": 5,
   "metadata": {},
   "outputs": [],
   "source": [
    "from pymouse import PyMouse\n",
    "from pykeyboard import PyKeyboard\n",
    "\n",
    "m = PyMouse()\n",
    "k = PyKeyboard()"
   ]
  },
  {
   "cell_type": "code",
   "execution_count": 7,
   "metadata": {},
   "outputs": [
    {
     "data": {
      "text/plain": [
       "(1891, 1042)"
      ]
     },
     "execution_count": 7,
     "metadata": {},
     "output_type": "execute_result"
    }
   ],
   "source": [
    "# Run this cell and you have 2 seconds to move the\n",
    "# mouse to where TI-GRAPH LINK 89 appears on the screen.\n",
    "sleep(2)\n",
    "graphlink_pos=m.position()\n",
    "graphlink_pos"
   ]
  },
  {
   "cell_type": "code",
   "execution_count": 17,
   "metadata": {},
   "outputs": [],
   "source": [
    "def activate_tigraphlink(graphlink_pos=graphlink_pos):\n",
    "    m.click(graphlink_pos[0], graphlink_pos[1])\n",
    "    m.click(graphlink_pos[0], graphlink_pos[1])\n",
    "    sleep(0.5)"
   ]
  },
  {
   "cell_type": "code",
   "execution_count": 28,
   "metadata": {},
   "outputs": [],
   "source": [
    "# Open the nth file in the current directory.\n",
    "def open_file(n=0):\n",
    "    activate_tigraphlink()\n",
    "    k.tap_key(k.alt_key)\n",
    "    k.tap_key(\"f\")\n",
    "    k.tap_key(\"o\")\n",
    "    sleep(1)\n",
    "    k.tap_key(k.tab_key)\n",
    "    for _ in range(n+1):\n",
    "        k.tap_key(k.down_key)\n",
    "        sleep(0.1)\n",
    "    k.tap_key(k.enter_key)\n",
    "open_file()"
   ]
  },
  {
   "cell_type": "code",
   "execution_count": 29,
   "metadata": {},
   "outputs": [],
   "source": [
    "open_file(1)"
   ]
  },
  {
   "cell_type": "code",
   "execution_count": 30,
   "metadata": {},
   "outputs": [],
   "source": [
    "open_file(10)"
   ]
  },
  {
   "cell_type": "code",
   "execution_count": 25,
   "metadata": {},
   "outputs": [],
   "source": [
    "# Export the file as a plain text file.\n",
    "def export_file():\n",
    "    activate_tigraphlink()\n",
    "    k.tap_key(k.alt_key)\n",
    "    sleep(0.2)\n",
    "    k.tap_key(\"t\")\n",
    "    sleep(0.2)\n",
    "    k.tap_key(\"e\")\n",
    "    sleep(0.2)\n",
    "    k.tap_key(k.down_key)\n",
    "    sleep(0.2)\n",
    "    k.tap_key(k.enter_key)\n",
    "    sleep(0.2)\n",
    "    k.tap_key(k.enter_key)\n",
    "    sleep(0.2)\n",
    "    k.tap_key(k.escape_key)    \n",
    "    sleep(0.2)\n",
    "    k.tap_key(k.escape_key)\n",
    "export_file()"
   ]
  },
  {
   "cell_type": "code",
   "execution_count": 26,
   "metadata": {},
   "outputs": [],
   "source": [
    "def close_file():\n",
    "    activate_tigraphlink()\n",
    "    k.tap_key(k.alt_key)\n",
    "    sleep(0.2)\n",
    "    k.tap_key(\"f\")\n",
    "    sleep(0.2)\n",
    "    k.tap_key(\"c\")\n",
    "    sleep(0.2)\n",
    "    k.tap_key(\"n\")\n",
    "close_file()"
   ]
  },
  {
   "cell_type": "code",
   "execution_count": 22,
   "metadata": {},
   "outputs": [],
   "source": [
    "# All together\n",
    "open_file()\n",
    "\n",
    "export_file()\n",
    "\n",
    "close_file()"
   ]
  },
  {
   "cell_type": "code",
   "execution_count": 31,
   "metadata": {},
   "outputs": [
    {
     "name": "stdout",
     "output_type": "stream",
     "text": [
      "     20      20     417\r\n"
     ]
    }
   ],
   "source": [
    "# How many files do we need to export\n",
    "!ls me572/*89* | wc"
   ]
  },
  {
   "cell_type": "code",
   "execution_count": 33,
   "metadata": {},
   "outputs": [
    {
     "name": "stdout",
     "output_type": "stream",
     "text": [
      "     10      10     206\r\n"
     ]
    }
   ],
   "source": [
    "!ls me575/*89* | wc"
   ]
  },
  {
   "cell_type": "code",
   "execution_count": 35,
   "metadata": {},
   "outputs": [
    {
     "name": "stdout",
     "output_type": "stream",
     "text": [
      "      7       7     192\r\n"
     ]
    }
   ],
   "source": [
    "!ls stat514/*89* | wc"
   ]
  },
  {
   "cell_type": "code",
   "execution_count": 36,
   "metadata": {},
   "outputs": [],
   "source": [
    "for n in range(7):\n",
    "    open_file(n)\n",
    "    export_file()\n",
    "    close_file()"
   ]
  }
 ],
 "metadata": {
  "kernelspec": {
   "display_name": "Python 3",
   "language": "python",
   "name": "python3"
  },
  "language_info": {
   "codemirror_mode": {
    "name": "ipython",
    "version": 3
   },
   "file_extension": ".py",
   "mimetype": "text/x-python",
   "name": "python",
   "nbconvert_exporter": "python",
   "pygments_lexer": "ipython3",
   "version": "3.6.5"
  }
 },
 "nbformat": 4,
 "nbformat_minor": 1
}
