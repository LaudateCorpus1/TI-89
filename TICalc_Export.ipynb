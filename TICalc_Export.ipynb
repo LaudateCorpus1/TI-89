{
 "cells": [
  {
   "cell_type": "markdown",
   "metadata": {},
   "source": [
    "Export programs and functions with TI-Graph Link 89."
   ]
  },
  {
   "cell_type": "code",
   "execution_count": 31,
   "metadata": {
    "collapsed": true
   },
   "outputs": [],
   "source": [
    "from pymouse import PyMouse\n",
    "from pykeyboard import PyKeyboard\n",
    "\n",
    "m = PyMouse()\n",
    "k = PyKeyboard()"
   ]
  },
  {
   "cell_type": "code",
   "execution_count": 4,
   "metadata": {
    "collapsed": true
   },
   "outputs": [],
   "source": [
    "from time import sleep"
   ]
  },
  {
   "cell_type": "code",
   "execution_count": 28,
   "metadata": {
    "collapsed": false
   },
   "outputs": [],
   "source": [
    "sleep(2)\n",
    "k.tap_key(k.alt_key)\n",
    "k.tap_key(\"f\")\n",
    "k.tap_key(\"o\")\n",
    "sleep(1)\n",
    "for i in range(3):\n",
    "    k.tap_key(k.tab_key)\n",
    "\n",
    "for i in range(3):\n",
    "    k.tap_key(k.down_key)\n",
    "    \n",
    "for i in range(5):\n",
    "    k.tap_key(k.tab_key)\n",
    "n=1\n",
    "for i in range(n):\n",
    "    k.tap_key(k.down_key)\n",
    "    \n",
    "k.tap_key(k.enter_key)"
   ]
  },
  {
   "cell_type": "code",
   "execution_count": 37,
   "metadata": {
    "collapsed": true
   },
   "outputs": [],
   "source": [
    "def key_seq(S):\n",
    "    for key in S:\n",
    "        k.tap_key(key)\n",
    "        sleep(0.05)"
   ]
  },
  {
   "cell_type": "code",
   "execution_count": null,
   "metadata": {
    "collapsed": true
   },
   "outputs": [],
   "source": [
    "3, 4, 7"
   ]
  },
  {
   "cell_type": "code",
   "execution_count": 71,
   "metadata": {
    "collapsed": true
   },
   "outputs": [],
   "source": [
    "def export_ti89(section=3, thing=1):\n",
    "    # Clear out to main TI Graph Link\n",
    "    key_seq([k.escape_key,]*3)\n",
    "\n",
    "    key_seq([k.alt_key, \"f\", \"o\"])\n",
    "    key_seq(3*[k.tab_key]) \n",
    "    \n",
    "    key_seq(section*[k.down_key])\n",
    "\n",
    "    # Go back to the top\n",
    "    k.press_key(k.shift_key)\n",
    "    key_seq(2*[k.tab_key])\n",
    "    k.release_key(k.shift_key)\n",
    "    \n",
    "    # Se\n",
    "    key_seq(1*[k.down_key])\n",
    "    thing-=1\n",
    "    \n",
    "    pg_downs , arrow_downs = divmod(thing, 5)\n",
    "    key_seq(pg_downs*[k.page_down_key])\n",
    "    key_seq(arrow_downs*[k.down_key])\n",
    "    \n",
    "    k.tap_key(k.enter_key)\n",
    "\n",
    "    sleep(0.5)\n",
    "    \n",
    "    if section == 3:\n",
    "        key_seq([k.alt_key, \"t\", \"e\", k.enter_key, k.enter_key])\n",
    "    else:\n",
    "        key_seq([k.alt_key, \"t\", \"e\", k.down_key, k.enter_key, k.enter_key])"
   ]
  },
  {
   "cell_type": "code",
   "execution_count": 51,
   "metadata": {
    "collapsed": false,
    "scrolled": false
   },
   "outputs": [],
   "source": [
    "for section in [3, 4, 7]:\n",
    "    for thing in range(27,40):\n",
    "        export_ti89(thing=thing)"
   ]
  },
  {
   "cell_type": "code",
   "execution_count": 72,
   "metadata": {
    "collapsed": false
   },
   "outputs": [],
   "source": [
    "sleep(5)\n",
    "for section in [7]:\n",
    "    for thing in range(1, 21):\n",
    "        export_ti89(section=section, thing=thing)"
   ]
  }
 ],
 "metadata": {
  "kernelspec": {
   "display_name": "Python 3",
   "language": "python",
   "name": "python3"
  },
  "language_info": {
   "codemirror_mode": {
    "name": "ipython",
    "version": 3
   },
   "file_extension": ".py",
   "mimetype": "text/x-python",
   "name": "python",
   "nbconvert_exporter": "python",
   "pygments_lexer": "ipython3",
   "version": "3.5.2"
  }
 },
 "nbformat": 4,
 "nbformat_minor": 1
}
